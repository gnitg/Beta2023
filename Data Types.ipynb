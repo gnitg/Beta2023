{
  "cells": [
    {
      "cell_type": "markdown",
      "metadata": {
        "id": "pbHgpOrtRrwu"
      },
      "source": [
        "# Data Types and Operations"
      ]
    },
    {
      "cell_type": "markdown",
      "metadata": {
        "id": "U4RJ_LLrRrwz"
      },
      "source": [
        "## Fundamental Data Types"
      ]
    },
    {
      "cell_type": "markdown",
      "metadata": {
        "id": "QayjNACBRrw0"
      },
      "source": [
        "### Booleans"
      ]
    },
    {
      "cell_type": "code",
      "execution_count": null,
      "metadata": {
        "id": "n5iBMEBnRrw1",
        "outputId": "8ef8707b-209c-43e3-8711-2997a68fe8ff"
      },
      "outputs": [
        {
          "data": {
            "text/plain": [
              "True"
            ]
          },
          "execution_count": 390,
          "metadata": {},
          "output_type": "execute_result"
        }
      ],
      "source": [
        "True"
      ]
    },
    {
      "cell_type": "code",
      "execution_count": null,
      "metadata": {
        "id": "x7T3WAm8Rrw2",
        "outputId": "59ab957e-61d5-410b-c2b5-adc5069987fc"
      },
      "outputs": [
        {
          "data": {
            "text/plain": [
              "False"
            ]
          },
          "execution_count": 2,
          "metadata": {},
          "output_type": "execute_result"
        }
      ],
      "source": [
        "False"
      ]
    },
    {
      "cell_type": "markdown",
      "metadata": {
        "id": "VMrZm_gRRrw3"
      },
      "source": [
        "### Integers"
      ]
    },
    {
      "cell_type": "markdown",
      "metadata": {
        "id": "ZUEmr9-3Rrw4"
      },
      "source": [
        "Any whole number (1,2,3,4,...)"
      ]
    },
    {
      "cell_type": "code",
      "execution_count": null,
      "metadata": {
        "id": "XoOHKRDsRrw4",
        "outputId": "86ce39cc-d7ff-4267-8da6-a308330e7ddb"
      },
      "outputs": [
        {
          "data": {
            "text/plain": [
              "int"
            ]
          },
          "execution_count": 1,
          "metadata": {},
          "output_type": "execute_result"
        }
      ],
      "source": [
        "type(10)"
      ]
    },
    {
      "cell_type": "markdown",
      "metadata": {
        "id": "xaCJWDIURrw4"
      },
      "source": [
        "### Floats"
      ]
    },
    {
      "cell_type": "markdown",
      "metadata": {
        "id": "fqA5bC3XRrw4"
      },
      "source": [
        "Any number with a decimal (floating) point"
      ]
    },
    {
      "cell_type": "code",
      "execution_count": null,
      "metadata": {
        "id": "b6JpA8XtRrw5",
        "outputId": "44dc7d64-737e-4229-ffaf-fa57cfaa4a08"
      },
      "outputs": [
        {
          "data": {
            "text/plain": [
              "float"
            ]
          },
          "execution_count": 398,
          "metadata": {},
          "output_type": "execute_result"
        }
      ],
      "source": [
        "pi = 3.14\n",
        "type(pi)"
      ]
    },
    {
      "cell_type": "markdown",
      "metadata": {
        "id": "sy8CgrXjRrw5"
      },
      "source": [
        "### Strings"
      ]
    },
    {
      "cell_type": "markdown",
      "metadata": {
        "id": "DuVdZMS1Rrw5"
      },
      "source": [
        "Anything contained within single, double, or triple quotes."
      ]
    },
    {
      "cell_type": "code",
      "execution_count": null,
      "metadata": {
        "id": "s2aaz6oTRrw5"
      },
      "outputs": [],
      "source": [
        "sentence = 'Hello, how are you?'"
      ]
    },
    {
      "cell_type": "code",
      "execution_count": null,
      "metadata": {
        "id": "f371rChiRrw6",
        "outputId": "49598de6-3421-47f9-ebe6-de7de6926c66"
      },
      "outputs": [
        {
          "data": {
            "text/plain": [
              "str"
            ]
          },
          "execution_count": 401,
          "metadata": {},
          "output_type": "execute_result"
        }
      ],
      "source": [
        "type(sentence)"
      ]
    },
    {
      "cell_type": "code",
      "execution_count": null,
      "metadata": {
        "id": "KU1UeV-CRrw6",
        "outputId": "1daa0c0e-10e8-43cf-f150-080f943b01f4"
      },
      "outputs": [
        {
          "data": {
            "text/plain": [
              "str"
            ]
          },
          "execution_count": 403,
          "metadata": {},
          "output_type": "execute_result"
        }
      ],
      "source": [
        "looks_like_an_integer = \"25\"\n",
        "type(looks_like_an_integer)"
      ]
    },
    {
      "cell_type": "code",
      "source": [
        "looks_like_an_integer = \"25\"\n",
        "type(looks_like_an_integer)"
      ],
      "metadata": {
        "id": "7mvhsWU1Rv6c"
      },
      "execution_count": null,
      "outputs": []
    },
    {
      "cell_type": "markdown",
      "metadata": {
        "id": "OoQ7yGnwRrw6"
      },
      "source": [
        "## Operators"
      ]
    },
    {
      "cell_type": "markdown",
      "metadata": {
        "id": "e-UPVmOMRrw6"
      },
      "source": [
        "### Arithmetic Operators"
      ]
    },
    {
      "cell_type": "code",
      "execution_count": null,
      "metadata": {
        "id": "lUvwyFHjRrw7",
        "outputId": "f7147690-965e-4697-eecb-cebd58f59b5e"
      },
      "outputs": [
        {
          "data": {
            "text/plain": [
              "5"
            ]
          },
          "execution_count": 365,
          "metadata": {},
          "output_type": "execute_result"
        }
      ],
      "source": [
        "2 + 3 # Addition"
      ]
    },
    {
      "cell_type": "code",
      "execution_count": null,
      "metadata": {
        "id": "u7D_azuCRrw8",
        "outputId": "1895c3dd-3a59-4359-99d0-2894081fb0fa"
      },
      "outputs": [
        {
          "data": {
            "text/plain": [
              "'Hello World'"
            ]
          },
          "execution_count": 366,
          "metadata": {},
          "output_type": "execute_result"
        }
      ],
      "source": [
        "'Hello' + ' World' # Works on strings too!"
      ]
    },
    {
      "cell_type": "code",
      "execution_count": null,
      "metadata": {
        "id": "8IUy47l8Rrw8",
        "outputId": "ea58a6fb-f692-4c88-8a87-9267715d4d3e"
      },
      "outputs": [
        {
          "data": {
            "text/plain": [
              "3"
            ]
          },
          "execution_count": 368,
          "metadata": {},
          "output_type": "execute_result"
        }
      ],
      "source": [
        "10 - 7 # Subtraction"
      ]
    },
    {
      "cell_type": "code",
      "execution_count": null,
      "metadata": {
        "id": "uZlJ1UxZRrw9",
        "outputId": "7eb3fc90-e637-4827-f829-2e20b238fd54"
      },
      "outputs": [
        {
          "data": {
            "text/plain": [
              "20"
            ]
          },
          "execution_count": 370,
          "metadata": {},
          "output_type": "execute_result"
        }
      ],
      "source": [
        "4 * 5 # Multiplication"
      ]
    },
    {
      "cell_type": "code",
      "execution_count": null,
      "metadata": {
        "id": "gz7JK31pRrxA",
        "outputId": "03e7f3cd-513f-4218-b103-45017e673d30"
      },
      "outputs": [
        {
          "data": {
            "text/plain": [
              "'Go On Go On Go On Go On Go On '"
            ]
          },
          "execution_count": 528,
          "metadata": {},
          "output_type": "execute_result"
        }
      ],
      "source": [
        "'Go On ' * 5 # Multiplication works on strings too!"
      ]
    },
    {
      "cell_type": "code",
      "execution_count": null,
      "metadata": {
        "id": "2neJHwQmRrxB",
        "outputId": "888e9872-b4a9-4dcb-e2db-8b8bae2491a8"
      },
      "outputs": [
        {
          "data": {
            "text/plain": [
              "2.0"
            ]
          },
          "execution_count": 360,
          "metadata": {},
          "output_type": "execute_result"
        }
      ],
      "source": [
        "8 / 4 # Division - Notice how it returns a float, even for whole numbers"
      ]
    },
    {
      "cell_type": "code",
      "execution_count": null,
      "metadata": {
        "id": "HcPs__jeRrxC",
        "outputId": "1aa77355-34b3-4a35-b39d-b56907e01752"
      },
      "outputs": [
        {
          "data": {
            "text/plain": [
              "4"
            ]
          },
          "execution_count": 361,
          "metadata": {},
          "output_type": "execute_result"
        }
      ],
      "source": [
        "9 // 2 # Floor Division - Number of full divisions; discards the remainder"
      ]
    },
    {
      "cell_type": "code",
      "execution_count": null,
      "metadata": {
        "id": "6Oe_KZkvRrxC",
        "outputId": "f9c115a3-83d1-42b5-954d-c5d427a706df"
      },
      "outputs": [
        {
          "data": {
            "text/plain": [
              "1"
            ]
          },
          "execution_count": 372,
          "metadata": {},
          "output_type": "execute_result"
        }
      ],
      "source": [
        "9 % 2 # The remainder after division – Useful for finding odd numbers"
      ]
    },
    {
      "cell_type": "code",
      "execution_count": null,
      "metadata": {
        "id": "as2OKbW9RrxD",
        "outputId": "e2dc7a53-ffcd-41be-f8e8-49d9dca4838c"
      },
      "outputs": [
        {
          "data": {
            "text/plain": [
              "16"
            ]
          },
          "execution_count": 373,
          "metadata": {},
          "output_type": "execute_result"
        }
      ],
      "source": [
        "4 ** 2 # Exponent – Raises to the power of"
      ]
    },
    {
      "cell_type": "markdown",
      "metadata": {
        "id": "GfsUpt-nRrxE"
      },
      "source": [
        "### Assignment Operators"
      ]
    },
    {
      "cell_type": "code",
      "execution_count": null,
      "metadata": {
        "id": "NmVB7w5TRrxE"
      },
      "outputs": [],
      "source": [
        "x = 10         # Assigning a number\n",
        "colour = 'Red' # Assigning a string"
      ]
    },
    {
      "cell_type": "code",
      "execution_count": null,
      "metadata": {
        "id": "8LayhOWdRrxF",
        "outputId": "68064d9a-d56d-4dca-9618-078d81381f59"
      },
      "outputs": [
        {
          "name": "stdout",
          "output_type": "stream",
          "text": [
            "2\n"
          ]
        }
      ],
      "source": [
        "# To make a counter\n",
        "i = 1      # Start at 1\n",
        "i = i + 1  # Add 1 to it\n",
        "print(i)   # Print out the result"
      ]
    },
    {
      "cell_type": "code",
      "execution_count": null,
      "metadata": {
        "id": "uJstEeUJRrxF",
        "outputId": "12e268a6-0f49-4939-850f-1fb89c0bf216"
      },
      "outputs": [
        {
          "name": "stdout",
          "output_type": "stream",
          "text": [
            "3\n"
          ]
        }
      ],
      "source": [
        "i += 1     # We can use this shorthand for combining Addition + Assignment\n",
        "print(i)"
      ]
    },
    {
      "cell_type": "code",
      "execution_count": null,
      "metadata": {
        "id": "MVy4Sdi_RrxG",
        "outputId": "b0f3a05f-d2a6-4254-b8b2-0a9e02622539"
      },
      "outputs": [
        {
          "name": "stdout",
          "output_type": "stream",
          "text": [
            "6\n"
          ]
        }
      ],
      "source": [
        "i *= 2   # Works for other arithmetic operators too\n",
        "print(i)"
      ]
    },
    {
      "cell_type": "markdown",
      "metadata": {
        "id": "xqbuN5WHRrxG"
      },
      "source": [
        "### Boolean Operators"
      ]
    },
    {
      "cell_type": "markdown",
      "metadata": {
        "id": "dBUz6QiWRrxH"
      },
      "source": [
        "Think of these like you are asking a question"
      ]
    },
    {
      "cell_type": "code",
      "execution_count": null,
      "metadata": {
        "id": "EIEelwI4RrxH",
        "outputId": "3ed67f08-a4cc-4fea-bce0-a8909e36f3df"
      },
      "outputs": [
        {
          "data": {
            "text/plain": [
              "False"
            ]
          },
          "execution_count": 385,
          "metadata": {},
          "output_type": "execute_result"
        }
      ],
      "source": [
        "x > 10  # Is x greater than 10?"
      ]
    },
    {
      "cell_type": "code",
      "execution_count": null,
      "metadata": {
        "id": "HwASZAqYRrxI",
        "outputId": "f300d0d1-5354-45ef-f710-062e72f6a3de"
      },
      "outputs": [
        {
          "data": {
            "text/plain": [
              "True"
            ]
          },
          "execution_count": 392,
          "metadata": {},
          "output_type": "execute_result"
        }
      ],
      "source": [
        "x >= 10 # Greater than, or equal to"
      ]
    },
    {
      "cell_type": "code",
      "execution_count": null,
      "metadata": {
        "id": "8PHle3j8RrxJ",
        "outputId": "688842b7-e11e-482d-c48d-f80525d4efc9"
      },
      "outputs": [
        {
          "data": {
            "text/plain": [
              "True"
            ]
          },
          "execution_count": 395,
          "metadata": {},
          "output_type": "execute_result"
        }
      ],
      "source": [
        "x == 10 # We have already used equals (=) for assignment, so we have to use double equals (==)"
      ]
    },
    {
      "cell_type": "code",
      "execution_count": null,
      "metadata": {
        "id": "jQQlshoQRrxJ",
        "outputId": "f97efd4d-308a-41a1-a396-a5b9af8c0b0e"
      },
      "outputs": [
        {
          "data": {
            "text/plain": [
              "True"
            ]
          },
          "execution_count": 4,
          "metadata": {},
          "output_type": "execute_result"
        }
      ],
      "source": [
        "x != 1  # The exclamation mark means not"
      ]
    },
    {
      "cell_type": "markdown",
      "metadata": {
        "id": "-K5BbPa4RrxJ"
      },
      "source": [
        "### Logical Operators"
      ]
    },
    {
      "cell_type": "code",
      "execution_count": null,
      "metadata": {
        "id": "ISBl2qX7RrxL"
      },
      "outputs": [],
      "source": [
        "x = 15"
      ]
    },
    {
      "cell_type": "code",
      "execution_count": null,
      "metadata": {
        "id": "gSQmWBe-RrxL",
        "outputId": "6ac29590-f076-41a7-8ad4-7e8bd9c3730c"
      },
      "outputs": [
        {
          "data": {
            "text/plain": [
              "True"
            ]
          },
          "execution_count": 14,
          "metadata": {},
          "output_type": "execute_result"
        }
      ],
      "source": [
        "x > 10 and x < 20 # In an \"and\" operation, both statements must be true"
      ]
    },
    {
      "cell_type": "code",
      "execution_count": null,
      "metadata": {
        "id": "hmRgXTYLRrxL"
      },
      "outputs": [],
      "source": [
        "day = 'Saturday'"
      ]
    },
    {
      "cell_type": "code",
      "execution_count": null,
      "metadata": {
        "id": "KrZ_lTwqRrxM",
        "outputId": "476a9a01-f6c7-4874-81f6-c3448aaffdf8"
      },
      "outputs": [
        {
          "data": {
            "text/plain": [
              "True"
            ]
          },
          "execution_count": 15,
          "metadata": {},
          "output_type": "execute_result"
        }
      ],
      "source": [
        "day == 'Saturday' or day == 'Sunday' # In an \"or\" operation, either statement needs to be true"
      ]
    },
    {
      "cell_type": "code",
      "execution_count": null,
      "metadata": {
        "id": "mlSr08pIRrxN",
        "outputId": "421e4a72-624e-4313-f116-42bb09cda1b7"
      },
      "outputs": [
        {
          "data": {
            "text/plain": [
              "False"
            ]
          },
          "execution_count": 16,
          "metadata": {},
          "output_type": "execute_result"
        }
      ],
      "source": [
        "not True # The \"not\" operation swaps True and False"
      ]
    },
    {
      "cell_type": "markdown",
      "metadata": {
        "id": "rFQ8qWgrRrxO"
      },
      "source": [
        "## Collection Data Types"
      ]
    },
    {
      "cell_type": "markdown",
      "metadata": {
        "id": "ZZ-fGDpBRrxP"
      },
      "source": [
        "Two types of collection data types: Those arranged in order, and those arranged by a key. Tuple and Lists have an order; these are sequence types"
      ]
    },
    {
      "cell_type": "markdown",
      "metadata": {
        "id": "r5QyOJiWRrxP"
      },
      "source": [
        "### Tuple"
      ]
    },
    {
      "cell_type": "code",
      "execution_count": null,
      "metadata": {
        "id": "3aIgz3uzRrxQ",
        "outputId": "76afb569-dd20-4719-fa15-39105097deeb"
      },
      "outputs": [
        {
          "data": {
            "text/plain": [
              "'Sun'"
            ]
          },
          "execution_count": 406,
          "metadata": {},
          "output_type": "execute_result"
        }
      ],
      "source": [
        "weekend = ('Sat','Sun')  # Tuples are created using round brackets ()\n",
        "weekend[1]               # We use the location in the sequence to retrieve values"
      ]
    },
    {
      "cell_type": "code",
      "execution_count": null,
      "metadata": {
        "id": "jddU_M5kRrxQ",
        "outputId": "95368832-3884-434a-a654-0516c0a76169"
      },
      "outputs": [
        {
          "ename": "TypeError",
          "evalue": "'tuple' object does not support item assignment",
          "output_type": "error",
          "traceback": [
            "\u001b[0;31m---------------------------------------------------------------------------\u001b[0m",
            "\u001b[0;31mTypeError\u001b[0m                                 Traceback (most recent call last)",
            "\u001b[0;32m<ipython-input-407-49a67a429926>\u001b[0m in \u001b[0;36m<module>\u001b[0;34m\u001b[0m\n\u001b[0;32m----> 1\u001b[0;31m \u001b[0mweekend\u001b[0m\u001b[0;34m[\u001b[0m\u001b[0;36m1\u001b[0m\u001b[0;34m]\u001b[0m \u001b[0;34m=\u001b[0m \u001b[0;34m'Mon'\u001b[0m       \u001b[0;31m# Tuples do not support item assignment\u001b[0m\u001b[0;34m\u001b[0m\u001b[0;34m\u001b[0m\u001b[0m\n\u001b[0m",
            "\u001b[0;31mTypeError\u001b[0m: 'tuple' object does not support item assignment"
          ]
        }
      ],
      "source": [
        "weekend[1] = 'Mon'       # Tuples do not support item assignment"
      ]
    },
    {
      "cell_type": "markdown",
      "metadata": {
        "id": "q9YIrHAQRrxR"
      },
      "source": [
        "### List"
      ]
    },
    {
      "cell_type": "code",
      "execution_count": null,
      "metadata": {
        "id": "KijUrUu2RrxR",
        "outputId": "8b2351ae-3d68-43aa-978f-b3332a5ef34f"
      },
      "outputs": [
        {
          "data": {
            "text/plain": [
              "['Thur', 'Tue', 'Wed']"
            ]
          },
          "execution_count": 408,
          "metadata": {},
          "output_type": "execute_result"
        }
      ],
      "source": [
        "weekday = ['Mon','Tue','Wed']  # Lists are created using square brackets []\n",
        "weekday[0] = 'Thur'            # Also accessed by location, but do support re-assignment\n",
        "weekday"
      ]
    },
    {
      "cell_type": "markdown",
      "metadata": {
        "id": "jAdOWz9iRrxS"
      },
      "source": [
        "### Dictionary"
      ]
    },
    {
      "cell_type": "markdown",
      "metadata": {
        "id": "1rZXLmHMRrxS"
      },
      "source": [
        "Since values in a dictionary do not have a sequance, we define the key for each."
      ]
    },
    {
      "cell_type": "code",
      "execution_count": null,
      "metadata": {
        "id": "tNYk2rkERrxT"
      },
      "outputs": [],
      "source": [
        "capitals  = {'Ireland':'Dublin', 'France':'Paris'}  # Dictionaries are defined using curly brackets {}"
      ]
    },
    {
      "cell_type": "code",
      "execution_count": null,
      "metadata": {
        "id": "9-KNE-E-RrxT",
        "outputId": "0b22dbe9-bae3-42c5-85cc-7ed95d35aeb7"
      },
      "outputs": [
        {
          "data": {
            "text/plain": [
              "'Dublin'"
            ]
          },
          "execution_count": 490,
          "metadata": {},
          "output_type": "execute_result"
        }
      ],
      "source": [
        "capitals['Ireland']  # We retrieve values using a key instead of an index. Make sure your key is unique!"
      ]
    },
    {
      "cell_type": "markdown",
      "metadata": {
        "id": "0fEhHw4oRrxT"
      },
      "source": [
        "### Strings"
      ]
    },
    {
      "cell_type": "code",
      "execution_count": null,
      "metadata": {
        "id": "NKsjaoadRrxU",
        "outputId": "61a55fd2-d461-465a-b67a-921349cc7736"
      },
      "outputs": [
        {
          "data": {
            "text/plain": [
              "'t'"
            ]
          },
          "execution_count": 414,
          "metadata": {},
          "output_type": "execute_result"
        }
      ],
      "source": [
        "sentence = 'This is actually a collection'\n",
        "sentence[10]"
      ]
    },
    {
      "cell_type": "code",
      "execution_count": null,
      "metadata": {
        "id": "o2wZYiGtRrxU",
        "outputId": "5c5f6118-867b-455e-ce27-dcff783b648c"
      },
      "outputs": [
        {
          "ename": "TypeError",
          "evalue": "'str' object does not support item assignment",
          "output_type": "error",
          "traceback": [
            "\u001b[0;31m---------------------------------------------------------------------------\u001b[0m",
            "\u001b[0;31mTypeError\u001b[0m                                 Traceback (most recent call last)",
            "\u001b[0;32m<ipython-input-415-3a5ece29a8f3>\u001b[0m in \u001b[0;36m<module>\u001b[0;34m\u001b[0m\n\u001b[0;32m----> 1\u001b[0;31m \u001b[0msentence\u001b[0m\u001b[0;34m[\u001b[0m\u001b[0;36m10\u001b[0m\u001b[0;34m]\u001b[0m \u001b[0;34m=\u001b[0m \u001b[0;34m'h'\u001b[0m \u001b[0;31m# Just don't try to reassign values\u001b[0m\u001b[0;34m\u001b[0m\u001b[0;34m\u001b[0m\u001b[0m\n\u001b[0m",
            "\u001b[0;31mTypeError\u001b[0m: 'str' object does not support item assignment"
          ]
        }
      ],
      "source": [
        "sentence[10] = 'h' # Just don't try to reassign values"
      ]
    },
    {
      "cell_type": "markdown",
      "metadata": {
        "id": "2ND053lQRrxU"
      },
      "source": [
        "## Square Bracket Notation"
      ]
    },
    {
      "cell_type": "markdown",
      "metadata": {
        "id": "2Le9dQI2RrxU"
      },
      "source": [
        "We will start with a new list"
      ]
    },
    {
      "cell_type": "code",
      "execution_count": null,
      "metadata": {
        "id": "Jwu9J_7GRrxV"
      },
      "outputs": [],
      "source": [
        "students = [1,2,3,4,5,6,7,8]"
      ]
    },
    {
      "cell_type": "markdown",
      "metadata": {
        "id": "tigX99LORrxV"
      },
      "source": [
        "### Accessing Item"
      ]
    },
    {
      "cell_type": "code",
      "execution_count": null,
      "metadata": {
        "id": "ANbSxu-aRrxV",
        "outputId": "08596199-ade1-4ce1-d84e-013b34db5f9d"
      },
      "outputs": [
        {
          "data": {
            "text/plain": [
              "int"
            ]
          },
          "execution_count": 418,
          "metadata": {},
          "output_type": "execute_result"
        }
      ],
      "source": [
        "type(students[0])  # Using square brackets returns the individual item"
      ]
    },
    {
      "cell_type": "markdown",
      "metadata": {
        "id": "qGL8o7tVRrxV"
      },
      "source": [
        "### Subsetting"
      ]
    },
    {
      "cell_type": "code",
      "execution_count": null,
      "metadata": {
        "id": "Do5KGlObRrxV",
        "outputId": "b37353f2-4393-4877-84e1-9107ef686a2e"
      },
      "outputs": [
        {
          "data": {
            "text/plain": [
              "list"
            ]
          },
          "execution_count": 431,
          "metadata": {},
          "output_type": "execute_result"
        }
      ],
      "source": [
        "type(students[2:5])  # Subsetting returns a list. Pass in the start at end paramters"
      ]
    },
    {
      "cell_type": "code",
      "execution_count": null,
      "metadata": {
        "id": "_kqrl_JGRrxW",
        "outputId": "49458285-041d-4518-b757-28d1b2480994"
      },
      "outputs": [
        {
          "data": {
            "text/plain": [
              "[1, 2, 3, 4, 5]"
            ]
          },
          "execution_count": 429,
          "metadata": {},
          "output_type": "execute_result"
        }
      ],
      "source": [
        "students[:5]      # Leaving out the first parameter means it will start at the start"
      ]
    },
    {
      "cell_type": "code",
      "execution_count": null,
      "metadata": {
        "id": "MVYqIr7WRrxW",
        "outputId": "7e18abcd-b606-42c4-f111-b7fce5853133"
      },
      "outputs": [
        {
          "data": {
            "text/plain": [
              "[3, 4, 5, 6, 7, 8]"
            ]
          },
          "execution_count": 432,
          "metadata": {},
          "output_type": "execute_result"
        }
      ],
      "source": [
        "students[2:]      # Leaving out the second parameter means it will run to the end"
      ]
    },
    {
      "cell_type": "code",
      "execution_count": null,
      "metadata": {
        "id": "vAFfMs6bRrxW",
        "outputId": "4857784f-186a-454b-e5aa-35820ced73ea"
      },
      "outputs": [
        {
          "data": {
            "text/plain": [
              "[1, 2, 3, 4, 5, 6, 7, 8]"
            ]
          },
          "execution_count": 434,
          "metadata": {},
          "output_type": "execute_result"
        }
      ],
      "source": [
        "students[:]       # Leaving out both will return the full list"
      ]
    },
    {
      "cell_type": "code",
      "execution_count": null,
      "metadata": {
        "id": "sPh6KPDqRrxX",
        "outputId": "b81d1da9-bcee-4d04-fe4b-7ed20c4aebaa"
      },
      "outputs": [
        {
          "data": {
            "text/plain": [
              "[6, 7]"
            ]
          },
          "execution_count": 437,
          "metadata": {},
          "output_type": "execute_result"
        }
      ],
      "source": [
        "students[-3:-1]   # Negative values will count from the end of the list"
      ]
    },
    {
      "cell_type": "code",
      "execution_count": null,
      "metadata": {
        "id": "x10poRlmRrxX",
        "outputId": "71386193-8c9c-4a5e-9759-eec08f1da0f8"
      },
      "outputs": [
        {
          "data": {
            "text/plain": [
              "[1, 3, 5, 7]"
            ]
          },
          "execution_count": 440,
          "metadata": {},
          "output_type": "execute_result"
        }
      ],
      "source": [
        "students[::2]     # A third parameter can be passed to set the step size"
      ]
    },
    {
      "cell_type": "markdown",
      "metadata": {
        "id": "X_Lf9Qd0RrxY"
      },
      "source": [
        "### Manipulating"
      ]
    },
    {
      "cell_type": "markdown",
      "metadata": {
        "id": "z3oDCjPlRrxY"
      },
      "source": [
        "We can use the assignment operations from before on lists too"
      ]
    },
    {
      "cell_type": "code",
      "execution_count": null,
      "metadata": {
        "id": "PHGnanZwRrxY",
        "outputId": "aa10c84b-523a-4f21-9c58-4ba89e45c305"
      },
      "outputs": [
        {
          "data": {
            "text/plain": [
              "[1, 2, 3, 4, 5, 6, 7, 8, 9, 10]"
            ]
          },
          "execution_count": 449,
          "metadata": {},
          "output_type": "execute_result"
        }
      ],
      "source": [
        "students += [9,10]\n",
        "students"
      ]
    },
    {
      "cell_type": "code",
      "execution_count": null,
      "metadata": {
        "id": "srOh7rmBRrxY",
        "outputId": "69a52f81-8fa7-4430-94d0-c320abd4046e"
      },
      "outputs": [
        {
          "data": {
            "text/plain": [
              "[1, 2, 3, 4, 5, 6, 7, 8, 9, 10, 1, 2, 3, 4, 5, 6, 7, 8, 9, 10]"
            ]
          },
          "execution_count": 450,
          "metadata": {},
          "output_type": "execute_result"
        }
      ],
      "source": [
        "students *= 2\n",
        "students"
      ]
    },
    {
      "cell_type": "markdown",
      "metadata": {
        "id": "xXWRX5kaRrxZ"
      },
      "source": [
        "### Copying"
      ]
    },
    {
      "cell_type": "markdown",
      "metadata": {
        "id": "aFbp9mnhRrxZ"
      },
      "source": [
        "This is a warning about copying lists"
      ]
    },
    {
      "cell_type": "code",
      "execution_count": null,
      "metadata": {
        "id": "6ZXe0pCGRrxZ",
        "outputId": "4c574216-d9da-4730-ad95-e65e9b4f734a"
      },
      "outputs": [
        {
          "data": {
            "text/plain": [
              "[1, 2, 3, 4, 6]"
            ]
          },
          "execution_count": 456,
          "metadata": {},
          "output_type": "execute_result"
        }
      ],
      "source": [
        "class_a = [1,2,3,4,6]  # Say I create a list \"class_a\"\n",
        "class_b = class_a      # And I want to create a copy of this list as \"class_b\"\n",
        "class_b                # And I even have a look at \"class_b\", and seems to be copied perfectly"
      ]
    },
    {
      "cell_type": "code",
      "execution_count": null,
      "metadata": {
        "id": "wEeiaEyvRrxZ",
        "outputId": "3a434c9b-9614-469d-a004-3b8dd2c9656a"
      },
      "outputs": [
        {
          "data": {
            "text/plain": [
              "[10, 2, 3, 4, 6]"
            ]
          },
          "execution_count": 459,
          "metadata": {},
          "output_type": "execute_result"
        }
      ],
      "source": [
        "class_a[0] = 10        # But if I change one of the values in \"class_a\"\n",
        "class_b                # And have a look at class_b, it is also changed here! We really are just pointing to \"class_a\""
      ]
    },
    {
      "cell_type": "code",
      "execution_count": null,
      "metadata": {
        "id": "Issrz5n0Rrxa",
        "outputId": "a75c4f5c-17b4-4e74-8d57-b427fb19ae3b"
      },
      "outputs": [
        {
          "data": {
            "text/plain": [
              "[1, 2, 3, 4, 6]"
            ]
          },
          "execution_count": 255,
          "metadata": {},
          "output_type": "execute_result"
        }
      ],
      "source": [
        "class_b = class_a[:]   # We can use our subsetting trick in future to create a proper copy"
      ]
    },
    {
      "cell_type": "code",
      "execution_count": null,
      "metadata": {
        "id": "-ILLGKkvRrxa"
      },
      "outputs": [],
      "source": [
        "class_b = list(class_a) # Or this list() function"
      ]
    },
    {
      "cell_type": "markdown",
      "metadata": {
        "id": "nQ-twhXBRrxa"
      },
      "source": [
        "## Conditional Statements"
      ]
    },
    {
      "cell_type": "markdown",
      "metadata": {
        "id": "4dQhAL2RRrxa"
      },
      "source": [
        "Conditional statements run depending on a Boolean statement."
      ]
    },
    {
      "cell_type": "markdown",
      "metadata": {
        "id": "4TxQtGcIRrxa"
      },
      "source": [
        "### If"
      ]
    },
    {
      "cell_type": "code",
      "execution_count": null,
      "metadata": {
        "id": "nKTWOUEERrxa",
        "outputId": "25da66db-b084-420e-881a-642275b1ce9e"
      },
      "outputs": [
        {
          "name": "stdout",
          "output_type": "stream",
          "text": [
            "x is 10\n"
          ]
        }
      ],
      "source": [
        "x = 10\n",
        "if x > 15:                # Here x > 15 is a Boolean statement. It will evaluate to False\n",
        "    print('x is large')\n",
        "elif x == 10:             # Here x == 10 is True. So the below statement executes\n",
        "    print('x is 10')\n",
        "elif x > 5:               # This is also True, but the statemetn has already been closed\n",
        "    print('x is medium')\n",
        "else:                     # This would catch anything not met by previous tests. Notice there is no Boolean test.\n",
        "    print('x is small')"
      ]
    },
    {
      "cell_type": "markdown",
      "metadata": {
        "id": "k3ZhsFxnRrxb"
      },
      "source": [
        "### While"
      ]
    },
    {
      "cell_type": "markdown",
      "metadata": {
        "id": "Sm_-UOHERrxb"
      },
      "source": [
        "This is our first loop. That means the statement will continually run until the statement turns False"
      ]
    },
    {
      "cell_type": "code",
      "execution_count": null,
      "metadata": {
        "id": "YKftXz61Rrxb",
        "outputId": "687a4322-d8cd-4f8f-abbd-8d90db8122ae"
      },
      "outputs": [
        {
          "name": "stdout",
          "output_type": "stream",
          "text": [
            "x is 1\n",
            "x is 2\n",
            "x is 3\n",
            "x is 4\n",
            "x is 5\n"
          ]
        }
      ],
      "source": [
        "x = 1                        # Start with x = 1\n",
        "while x < 6:                 # This test evaluates as True. It will keep revisiting this\n",
        "    print('x is ' + str(x))  # Print out whatever x is. (Notice: to add x to my sentence, I had to turn it into a string.)\n",
        "    x += 1                   # Make sure you are doing somethign to make x < 10 turn False. Or you will be stuck in a loop!"
      ]
    },
    {
      "cell_type": "markdown",
      "metadata": {
        "id": "HWSbfHxCRrxb"
      },
      "source": [
        "### For"
      ]
    },
    {
      "cell_type": "code",
      "execution_count": null,
      "metadata": {
        "id": "rxUHWkQpRrxb",
        "outputId": "6961b4d3-b377-40c1-dcc0-95f180f42404"
      },
      "outputs": [
        {
          "name": "stdout",
          "output_type": "stream",
          "text": [
            "x is 1\n",
            "x is 2\n",
            "x is 3\n",
            "x is 4\n",
            "x is 5\n"
          ]
        }
      ],
      "source": [
        "for x in [1,2,3,4,5]:        # In for loops, you provide a object to iterate over. Much more stable!\n",
        "    print('x is ' + str(x))"
      ]
    },
    {
      "cell_type": "code",
      "execution_count": null,
      "metadata": {
        "id": "HMfxV_yLRrxc",
        "outputId": "3ad2ce75-7506-4590-afc8-5a8383be9bc0"
      },
      "outputs": [
        {
          "name": "stdout",
          "output_type": "stream",
          "text": [
            "x is 1\n",
            "x is 2\n",
            "x is 3\n",
            "x is 4\n",
            "x is 5\n"
          ]
        }
      ],
      "source": [
        "for x in range(1,6):        # If you don't have a list or object, you can create one using range() function\n",
        "    print('x is ' + str(x))"
      ]
    },
    {
      "cell_type": "markdown",
      "metadata": {
        "id": "f7B5eN1eRrxc"
      },
      "source": [
        "## Functions"
      ]
    },
    {
      "cell_type": "markdown",
      "metadata": {
        "id": "re7Ewr9zRrxc"
      },
      "source": [
        "Functions are a way of packaging up code. They take some input (arguements), run some code (body), and then return a value"
      ]
    },
    {
      "cell_type": "code",
      "execution_count": null,
      "metadata": {
        "id": "TLR3pHUvRrxc"
      },
      "outputs": [],
      "source": [
        "def sums_two(a, b):  # Here we take in two numbers, represented by \"a\" and \"b\"\n",
        "    total = a + b    # We assign the sum of these two numbers to \"total\"\n",
        "    return total     # And now we return this function as the variable \"total\""
      ]
    },
    {
      "cell_type": "code",
      "execution_count": null,
      "metadata": {
        "id": "Mf9wzK_aRrxd",
        "outputId": "03c0d294-cfaf-408c-eea6-ae95dd2e7362"
      },
      "outputs": [
        {
          "data": {
            "text/plain": [
              "30"
            ]
          },
          "execution_count": 476,
          "metadata": {},
          "output_type": "execute_result"
        }
      ],
      "source": [
        "sums_two(10,20)"
      ]
    },
    {
      "cell_type": "markdown",
      "metadata": {
        "id": "mAw7SyzDRrxd"
      },
      "source": [
        "## Object-Oriented Programming (OOP)"
      ]
    },
    {
      "cell_type": "markdown",
      "metadata": {
        "id": "hXHzu8BwRrxe"
      },
      "source": [
        "So far, we have covered off data types and functions. In Object-oriented Programming (OOP), data types and functions can be packaged up inside of objects. When inside an object, data types are called attributes and functions are called methods. You can get into them, by using a dot (.) Every object type has different attributes and methods associated with them, depending on what would be useful."
      ]
    },
    {
      "cell_type": "markdown",
      "metadata": {
        "id": "q7LYccEFRrxg"
      },
      "source": [
        "### Attributes"
      ]
    },
    {
      "cell_type": "markdown",
      "metadata": {
        "id": "ZtHBGhIqRrxg"
      },
      "source": [
        "None of the objects we created so far have attributes associated with them (data types packaged inside them). So we will revisit some attribtues later, when we have more complex data structures."
      ]
    },
    {
      "cell_type": "markdown",
      "metadata": {
        "id": "VifpA9BBRrxg"
      },
      "source": [
        "### Methods"
      ]
    },
    {
      "cell_type": "markdown",
      "metadata": {
        "id": "4YdaYrZrRrxh"
      },
      "source": [
        "For this example, we will take a string. In OOP it is considered an object with loads of useful functions (methods) packaged inside it."
      ]
    },
    {
      "cell_type": "code",
      "execution_count": null,
      "metadata": {
        "id": "_LALkLUBRrxi",
        "outputId": "80b44731-107c-4014-bd20-6655f0042808"
      },
      "outputs": [
        {
          "data": {
            "text/plain": [
              "'Hello'"
            ]
          },
          "execution_count": 496,
          "metadata": {},
          "output_type": "execute_result"
        }
      ],
      "source": [
        "'hello'.capitalize()  # Even though this is a string, it is an object with hidden methods inside it"
      ]
    },
    {
      "cell_type": "code",
      "execution_count": null,
      "metadata": {
        "id": "ep8c6aEjRrxi",
        "outputId": "1a3dfba1-4b63-4465-987b-a215e3369f6d"
      },
      "outputs": [
        {
          "data": {
            "text/plain": [
              "'CIAN'"
            ]
          },
          "execution_count": 495,
          "metadata": {},
          "output_type": "execute_result"
        }
      ],
      "source": [
        "name = 'Cian'\n",
        "name.upper()   # This method turns the string to upper-case"
      ]
    },
    {
      "cell_type": "code",
      "execution_count": null,
      "metadata": {
        "id": "4AwH2NP4Rrxi",
        "outputId": "f70fb3a4-d166-4e9b-cd4f-5d733230ff38"
      },
      "outputs": [
        {
          "data": {
            "text/plain": [
              "['10', '12', '89']"
            ]
          },
          "execution_count": 482,
          "metadata": {},
          "output_type": "execute_result"
        }
      ],
      "source": [
        "birthday = '10-12-89'  # Say we have a birthday give to us a string, but we want to know the month.\n",
        "birthday.split('-')    # The split() method will return a list, splitting out our string into separate elements"
      ]
    },
    {
      "cell_type": "code",
      "execution_count": null,
      "metadata": {
        "id": "dekxQ168Rrxj",
        "outputId": "28efaa14-afbc-4a0f-a46f-fd90aa65a27c"
      },
      "outputs": [
        {
          "name": "stdout",
          "output_type": "stream",
          "text": [
            "12\n"
          ]
        }
      ],
      "source": [
        "day, month, year = birthday.split('-') # We can ever go as far as to unpack this list into three variables\n",
        "print(month)"
      ]
    },
    {
      "cell_type": "markdown",
      "metadata": {
        "id": "baFhd2e7Rrxj"
      },
      "source": [
        "## Packages"
      ]
    },
    {
      "cell_type": "markdown",
      "metadata": {
        "id": "xJfJ-nI2Rrxj"
      },
      "source": [
        "We can now look at importing code into our project. This dot notation, for accessing methods inside in objects, can be used for accessing functions inside of packages."
      ]
    },
    {
      "cell_type": "code",
      "execution_count": null,
      "metadata": {
        "id": "gTQKYz-pRrxj",
        "outputId": "58d22977-4749-4681-81c5-6249af59f2f1"
      },
      "outputs": [
        {
          "data": {
            "text/plain": [
              "5.5"
            ]
          },
          "execution_count": 502,
          "metadata": {},
          "output_type": "execute_result"
        }
      ],
      "source": [
        "import numpy         # Here we are importing a chunk of code called Numpy (Numerical Python). It is full of useful functions\n",
        "numpy.mean(students) # This function will get the average of our list"
      ]
    },
    {
      "cell_type": "code",
      "execution_count": null,
      "metadata": {
        "id": "VNN23_owRrxj",
        "outputId": "a82bd502-36d1-45b3-eec2-d1fc48ad5c20"
      },
      "outputs": [
        {
          "data": {
            "text/plain": [
              "10"
            ]
          },
          "execution_count": 503,
          "metadata": {},
          "output_type": "execute_result"
        }
      ],
      "source": [
        "import numpy as np  # It is very common to give these packages an alias, here \"np\" is used\n",
        "np.max(students)    # This function will get the max value from our list"
      ]
    },
    {
      "cell_type": "markdown",
      "metadata": {
        "id": "YUDL_M7GRrxk"
      },
      "source": [
        "## Numpy"
      ]
    },
    {
      "cell_type": "markdown",
      "metadata": {
        "id": "i1Dblt3JRrxk"
      },
      "source": [
        "Remember when we tried to run our operations on our lists. We could only treat it like a sequence or a word (double the whole thing, or tack values on to the end of it). But we couldn't operate on the elements of it. Converting our list into a NumPy array will allow us to do all those operations we looked at at the start of the lecture."
      ]
    },
    {
      "cell_type": "code",
      "execution_count": null,
      "metadata": {
        "id": "7waeo5HiRrxk",
        "outputId": "08319f3c-9d66-440e-8e7a-922c3d20fb83"
      },
      "outputs": [
        {
          "data": {
            "text/plain": [
              "array([1, 2, 3, 4, 5, 6, 7, 8])"
            ]
          },
          "execution_count": 507,
          "metadata": {},
          "output_type": "execute_result"
        }
      ],
      "source": [
        "students = [1,2,3,4,5,6,7,8]      # Let's define our list again\n",
        "student_arr = np.array(students)   # Using the array() function from our NumPy package\n",
        "student_arr                       # Looks identical, excepts it is called array"
      ]
    },
    {
      "cell_type": "markdown",
      "metadata": {
        "id": "r3nIBTmyRrxk"
      },
      "source": [
        "### Arithmetic Operations"
      ]
    },
    {
      "cell_type": "code",
      "execution_count": null,
      "metadata": {
        "id": "SudPPqMRRrxl",
        "outputId": "b038a64b-381c-4950-a8c5-3e4321485f7e"
      },
      "outputs": [
        {
          "data": {
            "text/plain": [
              "array([ 2,  4,  6,  8, 10, 12, 14, 16])"
            ]
          },
          "execution_count": 513,
          "metadata": {},
          "output_type": "execute_result"
        }
      ],
      "source": [
        "student_arr * 2   # Except this time, doubling it doesn't double the lenght of it, it doubles each element in it"
      ]
    },
    {
      "cell_type": "code",
      "execution_count": null,
      "metadata": {
        "id": "k1PFIhahRrxl",
        "outputId": "69b4da67-c13c-43ff-d254-d134c357b046"
      },
      "outputs": [
        {
          "data": {
            "text/plain": [
              "array([ 1,  4,  9, 16, 25, 36, 49, 64])"
            ]
          },
          "execution_count": 512,
          "metadata": {},
          "output_type": "execute_result"
        }
      ],
      "source": [
        "student_arr ** 2  # And all our arithmetic operators from before work on it. Here we square all the elements"
      ]
    },
    {
      "cell_type": "markdown",
      "metadata": {
        "id": "x6DUeMTMRrxl"
      },
      "source": [
        "### Boolean Operations"
      ]
    },
    {
      "cell_type": "code",
      "execution_count": null,
      "metadata": {
        "id": "ry9DEEeVRrxl",
        "outputId": "44d525f6-b91b-4c86-e75b-ed0b639eac90"
      },
      "outputs": [
        {
          "data": {
            "text/plain": [
              "array([False, False, False,  True,  True,  True,  True,  True])"
            ]
          },
          "execution_count": 514,
          "metadata": {},
          "output_type": "execute_result"
        }
      ],
      "source": [
        "student_arr > 3    # The same goes for Boolean operations"
      ]
    },
    {
      "cell_type": "markdown",
      "metadata": {
        "id": "g5z4-OqvRrxl"
      },
      "source": [
        "### Filtering"
      ]
    },
    {
      "cell_type": "markdown",
      "metadata": {
        "id": "i8AofWLqRrxl"
      },
      "source": [
        "A very handy use of the Boolean array above, is that we can pass it into our original array. This will knock out any values where the array is False"
      ]
    },
    {
      "cell_type": "code",
      "execution_count": null,
      "metadata": {
        "id": "HPwu36MoRrxm",
        "outputId": "60a95e0b-2bbf-4c2a-a882-d3d5d67adcfc"
      },
      "outputs": [
        {
          "data": {
            "text/plain": [
              "array([4, 5, 6, 7, 8])"
            ]
          },
          "execution_count": 519,
          "metadata": {},
          "output_type": "execute_result"
        }
      ],
      "source": [
        "over_three = student_arr > 3  # Here we create our Boolean array, and set it as a variable\n",
        "student_arr[over_three]       # Passing this into our original array has the effect of filtering the values"
      ]
    },
    {
      "cell_type": "code",
      "execution_count": null,
      "metadata": {
        "id": "z40uhSkvRrxm",
        "outputId": "e2323d47-8a95-4118-d67a-f7e405d2352b"
      },
      "outputs": [
        {
          "data": {
            "text/plain": [
              "array([4, 5, 6, 7, 8])"
            ]
          },
          "execution_count": 520,
          "metadata": {},
          "output_type": "execute_result"
        }
      ],
      "source": [
        "student_arr[student_arr > 3]  # This can all be done in one line. This is very common notation"
      ]
    },
    {
      "cell_type": "markdown",
      "metadata": {
        "id": "tmvRTtzrRrxm"
      },
      "source": [
        "### Methods and Attributes"
      ]
    },
    {
      "cell_type": "markdown",
      "metadata": {
        "id": "gT7KIx3zRrxm"
      },
      "source": [
        "Remember we said we would revisit attributes, once we got to a data structure that had them. NumPy arrays have attributes (data) associated with them. Notice there are no roundy brackets. That's because here we are retrieving a data type (integer, in this case), not calling a method."
      ]
    },
    {
      "cell_type": "code",
      "execution_count": null,
      "metadata": {
        "id": "rQKMHzMMRrxm",
        "outputId": "26b9a4ed-7f73-42b0-e0d2-0e307285b3b1"
      },
      "outputs": [
        {
          "data": {
            "text/plain": [
              "8"
            ]
          },
          "execution_count": 525,
          "metadata": {},
          "output_type": "execute_result"
        }
      ],
      "source": [
        "student_arr.size  # This attribute has the total number of elements in the list"
      ]
    },
    {
      "cell_type": "code",
      "execution_count": null,
      "metadata": {
        "id": "X6Nxg6cLRrxn",
        "outputId": "f3b16a86-7c5f-4d02-c602-b4d8850d2d45"
      },
      "outputs": [
        {
          "data": {
            "text/plain": [
              "4.5"
            ]
          },
          "execution_count": 529,
          "metadata": {},
          "output_type": "execute_result"
        }
      ],
      "source": [
        "student_arr.mean() # This method returns the average of the list"
      ]
    },
    {
      "cell_type": "markdown",
      "metadata": {
        "id": "cM1NDtduRrxn"
      },
      "source": [
        "## Two-Dimensional Objects"
      ]
    },
    {
      "cell_type": "markdown",
      "metadata": {
        "id": "O4637nQ3Rrxn"
      },
      "source": [
        "So far, all the objects we have been working with have been one dimensional. For instance, a list of numbers or names. What we really want to get to, is some sort of a table object. This is done by creating a two-dimensional object. It sounds complicated, but it just means layering what we have already. For instance, a list of lists."
      ]
    },
    {
      "cell_type": "markdown",
      "metadata": {
        "id": "nebLVQG1Rrxn"
      },
      "source": [
        "### List of Lists"
      ]
    },
    {
      "cell_type": "markdown",
      "metadata": {
        "id": "i7leC81bRrxn"
      },
      "source": [
        "Here we are going to create another list with three elements, but each element is going to be a list itself."
      ]
    },
    {
      "cell_type": "code",
      "execution_count": null,
      "metadata": {
        "id": "4m2dRuJrRrxn",
        "outputId": "cd7064bc-98b7-42ac-89cc-53589f0f56f6"
      },
      "outputs": [
        {
          "data": {
            "text/plain": [
              "[[1, 2, 3], [4, 5, 6], [7, 8, 9]]"
            ]
          },
          "execution_count": 534,
          "metadata": {},
          "output_type": "execute_result"
        }
      ],
      "source": [
        "list_of_lists = [[1,2,3],[4,5,6],[7,8,9]]  # We can create a list of lists\n",
        "list_of_lists"
      ]
    },
    {
      "cell_type": "code",
      "execution_count": null,
      "metadata": {
        "id": "CD8NwHeVRrxo",
        "outputId": "f4c3cf7b-1580-4b76-c57c-99229bb488da"
      },
      "outputs": [
        {
          "data": {
            "text/plain": [
              "[1, 2, 3]"
            ]
          },
          "execution_count": 535,
          "metadata": {},
          "output_type": "execute_result"
        }
      ],
      "source": [
        "list_of_lists[0]   # Using the square bracket notation we can access the first element (first list)"
      ]
    },
    {
      "cell_type": "code",
      "execution_count": null,
      "metadata": {
        "id": "96nIMC9KRrxo",
        "outputId": "f01aa45a-bf53-4423-d087-3407e59a17d1"
      },
      "outputs": [
        {
          "data": {
            "text/plain": [
              "3"
            ]
          },
          "execution_count": 540,
          "metadata": {},
          "output_type": "execute_result"
        }
      ],
      "source": [
        "list_of_lists[0][2] # We can chain these together to access individual elements"
      ]
    },
    {
      "cell_type": "markdown",
      "metadata": {
        "id": "YMKmuMH6Rrxo"
      },
      "source": [
        "### 2D Arrays"
      ]
    },
    {
      "cell_type": "markdown",
      "metadata": {
        "id": "4O--jMPVRrxo"
      },
      "source": [
        "Using NumPy's array() function, we can turn our 2D lists into 2D arrays."
      ]
    },
    {
      "cell_type": "code",
      "execution_count": null,
      "metadata": {
        "id": "dR89TWsxRrxp",
        "outputId": "4bdb1179-f8c5-4e96-c130-8954b317aac2"
      },
      "outputs": [
        {
          "data": {
            "text/plain": [
              "array([[1, 2, 3],\n",
              "       [4, 5, 6],\n",
              "       [7, 8, 9]])"
            ]
          },
          "execution_count": 542,
          "metadata": {},
          "output_type": "execute_result"
        }
      ],
      "source": [
        "np.array(list_of_lists)  # This is immediately more recognisably two-dimentional"
      ]
    },
    {
      "cell_type": "code",
      "execution_count": null,
      "metadata": {
        "id": "HUnNgcwjRrxp",
        "outputId": "cf9d5f6e-493f-44ae-ec12-f887daf3bf26"
      },
      "outputs": [
        {
          "data": {
            "text/plain": [
              "3"
            ]
          },
          "execution_count": 548,
          "metadata": {},
          "output_type": "execute_result"
        }
      ],
      "source": [
        "two_d_arr = np.array(list_of_lists)  # Converting out 2D list into a 2D Numpy array\n",
        "two_d_arr[0][2]  # Accessing items just like before"
      ]
    },
    {
      "cell_type": "code",
      "execution_count": null,
      "metadata": {
        "id": "_yUk-E4mRrxp",
        "outputId": "3f0817f4-2612-44e1-c32e-746bb132db05"
      },
      "outputs": [
        {
          "data": {
            "text/plain": [
              "3"
            ]
          },
          "execution_count": 550,
          "metadata": {},
          "output_type": "execute_result"
        }
      ],
      "source": [
        "two_d_arr[0,2]   # But now we have a more convenient short-hand for it (rows, columns)"
      ]
    },
    {
      "cell_type": "code",
      "execution_count": null,
      "metadata": {
        "id": "mwznwADoRrxp",
        "outputId": "8195d1c5-ed5d-42f3-e1bc-887be794a436"
      },
      "outputs": [
        {
          "data": {
            "text/plain": [
              "array([[1, 2],\n",
              "       [4, 5]])"
            ]
          },
          "execution_count": 552,
          "metadata": {},
          "output_type": "execute_result"
        }
      ],
      "source": [
        "two_d_arr[0:2,0:2] # And we can subset our rows and columns as before"
      ]
    },
    {
      "cell_type": "markdown",
      "metadata": {
        "id": "CRkkcuKCRrxq"
      },
      "source": [
        "So this is great, we have a 2D object that we can slice and filter by rows and columns. And if your data is entirely numeric this could be just what you need. But what if we are dealing with more descriptive datasets. Like out `brics` table with information about country captials, populations, GDP, etc."
      ]
    },
    {
      "cell_type": "code",
      "execution_count": null,
      "metadata": {
        "id": "GXryU4PTRrxq",
        "outputId": "81af3002-0193-436b-8f83-355a1fb24500"
      },
      "outputs": [
        {
          "data": {
            "text/plain": [
              "array([['BR', 'RU', 'IN', 'CH', 'SA'],\n",
              "       ['Brazil', 'Russia', 'India', 'China', 'South Africa'],\n",
              "       ['Brasilia', 'Moscow', 'New Dehli', 'Beijing', 'Pretoria'],\n",
              "       ['8.516', '17.1', '3.286', '9.597', '1.221'],\n",
              "       ['200.4', '143.5', '1252', '1357', '52.98']], dtype='<U12')"
            ]
          },
          "execution_count": 28,
          "metadata": {},
          "output_type": "execute_result"
        }
      ],
      "source": [
        "brics_list = [['BR','RU','IN','CH','SA'],\n",
        "              ['Brazil', 'Russia', 'India', 'China', 'South Africa'],\n",
        "              ['Brasilia', 'Moscow', 'New Dehli', 'Beijing', 'Pretoria'],\n",
        "              [8.516, 17.10, 3.286, 9.597, 1.221],\n",
        "              [200.4, 143.5, 1252, 1357, 52.98]]\n",
        "\n",
        "brics_arr = np.array(brics_list)\n",
        "brics_arr"
      ]
    },
    {
      "cell_type": "markdown",
      "metadata": {
        "id": "wgNzIdG6Rrxq"
      },
      "source": [
        "If I want to pull out the capitals columns, I can do it the same as before, but I have to know which column number that is."
      ]
    },
    {
      "cell_type": "code",
      "execution_count": null,
      "metadata": {
        "id": "dEonP0TPRrxq",
        "outputId": "d918c008-b70c-48e5-ad29-d1259f7db3a6"
      },
      "outputs": [
        {
          "data": {
            "text/plain": [
              "array(['Brasilia', 'Moscow', 'New Dehli', 'Beijing', 'Pretoria'],\n",
              "      dtype='<U12')"
            ]
          },
          "execution_count": 29,
          "metadata": {},
          "output_type": "execute_result"
        }
      ],
      "source": [
        "brics_arr[2]"
      ]
    },
    {
      "cell_type": "markdown",
      "metadata": {
        "id": "JJ1CH5E5Rrxr"
      },
      "source": [
        "And to pull out the population of India, we would need to know India is the 3rd row."
      ]
    },
    {
      "cell_type": "code",
      "execution_count": null,
      "metadata": {
        "id": "BvtEZzk5Rrxr",
        "outputId": "cbc94667-2aed-4f8c-edb9-cc9931da21d4"
      },
      "outputs": [
        {
          "data": {
            "text/plain": [
              "'New Dehli'"
            ]
          },
          "execution_count": 30,
          "metadata": {},
          "output_type": "execute_result"
        }
      ],
      "source": [
        "brics_arr[2,2]"
      ]
    },
    {
      "cell_type": "markdown",
      "metadata": {
        "id": "9RITd3OCRrxr"
      },
      "source": [
        "This could be fine for you, depending on the dataset. However, most of the time it would be great to be able to label our columns and rows. This would make it easier to pull out data from it. To do this, we take advantage of the dictionary!"
      ]
    },
    {
      "cell_type": "markdown",
      "metadata": {
        "id": "VIDqqBheRrxs"
      },
      "source": [
        "### Dictionary of Lists"
      ]
    },
    {
      "cell_type": "markdown",
      "metadata": {
        "id": "o5F_uWDjRrxs"
      },
      "source": [
        "Dictionaries give us the ability to apply a label to our columns. This means we can access the columns by a word rather than just a number (as with arrays)."
      ]
    },
    {
      "cell_type": "code",
      "execution_count": null,
      "metadata": {
        "id": "oQ9zjtnjRrxs",
        "outputId": "5f1303cb-d457-4ff5-acd3-42d95e961e4c"
      },
      "outputs": [
        {
          "data": {
            "text/plain": [
              "{'label': ['BR', 'RU', 'IN', 'CH', 'SA'],\n",
              " 'country': ['Brazil', 'Russia', 'India', 'China', 'South Africa'],\n",
              " 'capital': ['Brasilia', 'Moscow', 'New Dehli', 'Beijing', 'Pretoria'],\n",
              " 'area': [8.516, 17.1, 3.286, 9.597, 1.221],\n",
              " 'population': [200.4, 143.5, 1252, 1357, 52.98]}"
            ]
          },
          "execution_count": 11,
          "metadata": {},
          "output_type": "execute_result"
        }
      ],
      "source": [
        "brics_dict = {'label':      ['BR','RU','IN','CH','SA'],\n",
        "              'country':    ['Brazil', 'Russia', 'India', 'China', 'South Africa'],\n",
        "              'capital':    ['Brasilia', 'Moscow', 'New Dehli', 'Beijing', 'Pretoria'],\n",
        "              'area':       [8.516, 17.10, 3.286, 9.597, 1.221],\n",
        "              'population': [200.4, 143.5, 1252, 1357, 52.98]}\n",
        "brics_dict"
      ]
    },
    {
      "cell_type": "markdown",
      "metadata": {
        "id": "7C4tNbWJRrxs"
      },
      "source": [
        "From here we can create a sort of labelled array. This is called a DataFrame. Just like how a list of lists could be turned into an array, a dictionary of lists can be turned into a DataFrame. The package we will use to do this is called `Pandas`."
      ]
    },
    {
      "cell_type": "markdown",
      "metadata": {
        "id": "ad7qwF6mRrxs"
      },
      "source": [
        "### DataFrames"
      ]
    },
    {
      "cell_type": "code",
      "execution_count": null,
      "metadata": {
        "id": "PrjQX18wRrxs"
      },
      "outputs": [],
      "source": [
        "import pandas as pd"
      ]
    },
    {
      "cell_type": "code",
      "execution_count": null,
      "metadata": {
        "id": "lwwVjkSoRrxt",
        "outputId": "94002fdd-00a4-421c-d812-fef5805a7aad"
      },
      "outputs": [
        {
          "data": {
            "text/html": [
              "<div>\n",
              "<style scoped>\n",
              "    .dataframe tbody tr th:only-of-type {\n",
              "        vertical-align: middle;\n",
              "    }\n",
              "\n",
              "    .dataframe tbody tr th {\n",
              "        vertical-align: top;\n",
              "    }\n",
              "\n",
              "    .dataframe thead th {\n",
              "        text-align: right;\n",
              "    }\n",
              "</style>\n",
              "<table border=\"1\" class=\"dataframe\">\n",
              "  <thead>\n",
              "    <tr style=\"text-align: right;\">\n",
              "      <th></th>\n",
              "      <th>label</th>\n",
              "      <th>country</th>\n",
              "      <th>capital</th>\n",
              "      <th>area</th>\n",
              "      <th>population</th>\n",
              "    </tr>\n",
              "  </thead>\n",
              "  <tbody>\n",
              "    <tr>\n",
              "      <th>0</th>\n",
              "      <td>BR</td>\n",
              "      <td>Brazil</td>\n",
              "      <td>Brasilia</td>\n",
              "      <td>8.516</td>\n",
              "      <td>200.40</td>\n",
              "    </tr>\n",
              "    <tr>\n",
              "      <th>1</th>\n",
              "      <td>RU</td>\n",
              "      <td>Russia</td>\n",
              "      <td>Moscow</td>\n",
              "      <td>17.100</td>\n",
              "      <td>143.50</td>\n",
              "    </tr>\n",
              "    <tr>\n",
              "      <th>2</th>\n",
              "      <td>IN</td>\n",
              "      <td>India</td>\n",
              "      <td>New Dehli</td>\n",
              "      <td>3.286</td>\n",
              "      <td>1252.00</td>\n",
              "    </tr>\n",
              "    <tr>\n",
              "      <th>3</th>\n",
              "      <td>CH</td>\n",
              "      <td>China</td>\n",
              "      <td>Beijing</td>\n",
              "      <td>9.597</td>\n",
              "      <td>1357.00</td>\n",
              "    </tr>\n",
              "    <tr>\n",
              "      <th>4</th>\n",
              "      <td>SA</td>\n",
              "      <td>South Africa</td>\n",
              "      <td>Pretoria</td>\n",
              "      <td>1.221</td>\n",
              "      <td>52.98</td>\n",
              "    </tr>\n",
              "  </tbody>\n",
              "</table>\n",
              "</div>"
            ],
            "text/plain": [
              "  label       country    capital    area  population\n",
              "0    BR        Brazil   Brasilia   8.516      200.40\n",
              "1    RU        Russia     Moscow  17.100      143.50\n",
              "2    IN         India  New Dehli   3.286     1252.00\n",
              "3    CH         China    Beijing   9.597     1357.00\n",
              "4    SA  South Africa   Pretoria   1.221       52.98"
            ]
          },
          "execution_count": 13,
          "metadata": {},
          "output_type": "execute_result"
        }
      ],
      "source": [
        "brics_df = pd.DataFrame(brics_dict)\n",
        "brics_df"
      ]
    },
    {
      "cell_type": "markdown",
      "metadata": {
        "id": "PJWEX4mkRrxu"
      },
      "source": [
        "Finally, we have something that actually looks like a table! It is similar to the array from before, but we have labelled the columns. We can use these labels to access them (much like in a dictionary)."
      ]
    },
    {
      "cell_type": "code",
      "execution_count": null,
      "metadata": {
        "id": "g5QlPn2RRrxu",
        "outputId": "32dec734-8f00-4be9-deba-1c61e2596acc"
      },
      "outputs": [
        {
          "data": {
            "text/plain": [
              "0     Brasilia\n",
              "1       Moscow\n",
              "2    New Dehli\n",
              "3      Beijing\n",
              "4     Pretoria\n",
              "Name: capital, dtype: object"
            ]
          },
          "execution_count": 32,
          "metadata": {},
          "output_type": "execute_result"
        }
      ],
      "source": [
        "brics_df['capital']"
      ]
    },
    {
      "cell_type": "markdown",
      "metadata": {
        "id": "avICpmiURrxv"
      },
      "source": [
        "Next week, we will dive deeper into DataFrames and the `Pandas` package."
      ]
    }
  ],
  "metadata": {
    "kernelspec": {
      "display_name": "Python 3",
      "language": "python",
      "name": "python3"
    },
    "language_info": {
      "codemirror_mode": {
        "name": "ipython",
        "version": 3
      },
      "file_extension": ".py",
      "mimetype": "text/x-python",
      "name": "python",
      "nbconvert_exporter": "python",
      "pygments_lexer": "ipython3",
      "version": "3.8.5"
    },
    "colab": {
      "provenance": []
    }
  },
  "nbformat": 4,
  "nbformat_minor": 0
}